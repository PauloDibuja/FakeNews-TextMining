{
 "cells": [
  {
   "cell_type": "markdown",
   "id": "fe8966bd",
   "metadata": {},
   "source": [
    "# Importar bibliotecas"
   ]
  },
  {
   "cell_type": "code",
   "execution_count": 11,
   "id": "460c5c16",
   "metadata": {},
   "outputs": [],
   "source": [
    "import polars as pl\n",
    "from sklearn.feature_extraction.text import CountVectorizer\n",
    "from sklearn.decomposition import LatentDirichletAllocation\n",
    "import numpy as np\n",
    "import plotly.express as px\n",
    "from IPython.display import Image, display\n",
    "import os"
   ]
  },
  {
   "cell_type": "code",
   "execution_count": 12,
   "id": "40d76feb",
   "metadata": {},
   "outputs": [
    {
     "name": "stdout",
     "output_type": "stream",
     "text": [
      "idx_questions_per_post_test: [{0: '  ¿Qué tan confiable consideras esta noticia?  ', 1: '¿Crees que esta noticia es verdadera o falsa?  ', 2: '¿Piensas que esta noticia fue creada por una persona humana o por una inteligencia artificial?  '}, {0: '  ¿Qué tan confiable consideras esta noticia?  _duplicated_0', 1: '¿Crees que esta noticia es verdadera o falsa?  _duplicated_0', 2: '¿Piensas que esta noticia fue creada por una persona humana o por una inteligencia artificial?  _duplicated_0'}, {0: '  ¿Qué tan confiable consideras esta noticia?  _duplicated_1', 1: '¿Crees que esta noticia es verdadera o falsa?  _duplicated_1', 2: '¿Piensas que esta noticia fue creada por una persona humana o por una inteligencia artificial?  _duplicated_1'}, {0: '  ¿Qué tan confiable consideras esta noticia?  _duplicated_2', 1: '¿Crees que esta noticia es verdadera o falsa?  _duplicated_2', 2: '¿Piensas que esta noticia fue creada por una persona humana o por una inteligencia artificial?  _duplicated_2'}, {0: '  ¿Qué tan confiable consideras esta noticia?  _duplicated_3', 1: '¿Crees que esta noticia es verdadera o falsa?  _duplicated_3', 2: '¿Piensas que esta noticia fue creada por una persona humana o por una inteligencia artificial?  _duplicated_3'}]\n",
      "idx_questions_per_post_plain_text: ['La noticia 5 es Falsa y esta generada por Inteligencia Artificial, ¿Qué tan verídica te pareció y por qué?', 'La noticia 4 es Verdadera y esta generada por un humano, ¿Qué tan verídica te pareció y por qué?', 'La noticia 3 es Verdadera y generada por un humano, ¿Qué tan verídica te pareció y por qué?', 'La noticia 2 es Falsa y esta generada por Inteligencia Artificial, ¿Qué tan verídica te pareció y por qué?', 'La noticia 1 es Falsa y esta generada por un humano, ¿Qué tan verídica te pareció esta noticia y por que?.']\n",
      "idx_general_questions: {0: 'Marca temporal', 1: '1. Edad: ', 2: '2. Sexo:', 3: '3. Carrera que cursa:', 4: '  4. ¿Con qué frecuencia estas en entornos digitales?  ', 5: '5. ¿Qué entiendes por el concepto “Fake News”?  ', 6: '6. ¿Qué tan común crees que es encontrar noticias falsas en redes sociales?  ', 7: '7. ¿Crees que puedes identificar fácilmente una noticia falsa?  ', 8: '  8. ¿Has compartido alguna noticia en redes sin verificar si era verdadera?  ', 9: '9. ¿Sueles verificar la fuente de una noticia antes de compartirla?  ', 10: '10. ¿Qué elementos te ayudan a identificar si una noticia es falsa?  '}\n"
     ]
    }
   ],
   "source": [
    "# Ruta al archivo\n",
    "ruta_csv = \"results.csv\"\n",
    "\n",
    "# Leer el CSV usando Polars\n",
    "df = pl.read_csv(ruta_csv, encoding='utf8')  # Si hay problemas con acentos, prueba 'latin1' en vez de 'utf8'\n",
    "\n",
    "#print(df.schema)\n",
    "\n",
    "# Ver nombres de columnas\n",
    "\n",
    "# Ver cuántas filas y columnas tiene\n",
    "#print(f\"Número de filas: {df.height}, columnas: {df.width}\")\n",
    "#dict([(i, df.columns[i]) for i in range(len(df.columns))])\n",
    "\n",
    "idx_questions_per_post_test =  []\n",
    "idx_questions_per_post_plain_text = []\n",
    "idx_general_questions = dict([(i, df.columns[i]) for i in range(len(df.columns))][0:11])\n",
    "\n",
    "for j in range(5):\n",
    "    idx_questions_per_post_test.append(dict([((i - 2)%3, df.columns[i]) for i in range(len(df.columns))][11+j*3:14+j*3]))\n",
    "    idx_questions_per_post_plain_text.append(df.columns[-1 - j])\n",
    "\n",
    "\n",
    "print(\"idx_questions_per_post_test:\", idx_questions_per_post_test)\n",
    "print(\"idx_questions_per_post_plain_text:\", idx_questions_per_post_plain_text)\n",
    "print(\"idx_general_questions:\", idx_general_questions)"
   ]
  },
  {
   "cell_type": "markdown",
   "id": "aa67f51d",
   "metadata": {},
   "source": [
    "# Análisis de respuesta generales"
   ]
  },
  {
   "cell_type": "markdown",
   "id": "2027ac43",
   "metadata": {},
   "source": [
    "## 4. ¿Con qué frecuencia estas en entornos digitales?"
   ]
  },
  {
   "cell_type": "code",
   "execution_count": null,
   "id": "37823c50",
   "metadata": {},
   "outputs": [],
   "source": [
    "# graph index 4 general question with a circular graph\n",
    "fig = px.pie(df, names=idx_general_questions[4], title=idx_general_questions[4])\n",
    "fig.update_layout(height=800, width=1200, font=dict(size=20))\n",
    "display(fig)\n",
    "fig.write_image(\"1_4_general_question.png\")"
   ]
  },
  {
   "cell_type": "markdown",
   "id": "5ce3ac93",
   "metadata": {},
   "source": [
    "## 6. ¿Qué tan común crees que es encontrar noticias falsas en redes sociales?"
   ]
  },
  {
   "cell_type": "code",
   "execution_count": null,
   "id": "5b83880c",
   "metadata": {},
   "outputs": [],
   "source": [
    "# graph index 6 general question with a circular graph\n",
    "fig = px.pie(df, names=idx_general_questions[6], title=idx_general_questions[6])\n",
    "fig.update_layout(height=900, width=1200, font=dict(size=20))\n",
    "display(fig)\n",
    "fig.write_image(\"1_6_general_question.png\")"
   ]
  },
  {
   "cell_type": "markdown",
   "id": "971248bc",
   "metadata": {},
   "source": [
    "## 7. ¿Crees que puedes identificar fácilmente una noticia falsa?  "
   ]
  },
  {
   "cell_type": "code",
   "execution_count": null,
   "id": "4c097230",
   "metadata": {},
   "outputs": [],
   "source": [
    "# graph index 7 general question with a circular graph (aspect ratio 1:1)\n",
    "fig = px.pie(df, names=idx_general_questions[7], title=idx_general_questions[7])\n",
    "scale_factor = 2\n",
    "fig.update_layout(height=400 * scale_factor, width=550 * scale_factor, font=dict(size=20))\n",
    "display(fig)\n",
    "fig.write_image(\"1_7_general_question.png\")"
   ]
  },
  {
   "cell_type": "markdown",
   "id": "69e2520a",
   "metadata": {},
   "source": [
    "## 9. ¿Sueles verificar la fuente de una noticia antes de compartirla?  "
   ]
  },
  {
   "cell_type": "code",
   "execution_count": null,
   "id": "efc3ed46",
   "metadata": {},
   "outputs": [],
   "source": [
    "# graph index 9 general question with a circular graph (aspect ratio 1:1)\n",
    "fig = px.pie(df, names=idx_general_questions[9], title=idx_general_questions[9])\n",
    "scale_factor = 2\n",
    "fig.update_layout(height=400*scale_factor, width=550*scale_factor, font=dict(size=20))\n",
    "display(fig)\n",
    "fig.write_image(\"1_9_general_question.png\")"
   ]
  },
  {
   "cell_type": "markdown",
   "id": "990a2494",
   "metadata": {},
   "source": [
    "## Prueba: ¿Qué tan confiable consideras esta noticia?  "
   ]
  },
  {
   "cell_type": "code",
   "execution_count": null,
   "id": "fbed401d",
   "metadata": {},
   "outputs": [],
   "source": [
    "# for post section graph the first question of each post\n",
    "\n",
    "from plotly.subplots import make_subplots\n",
    "import plotly.graph_objects as go\n",
    "\n",
    "# Create a subplot with 1 rows and 5 column\n",
    "fig = make_subplots(rows=1, cols=5, shared_xaxes=True, vertical_spacing=0.05)\n",
    "\n",
    "for idx, question in enumerate(idx_questions_per_post_test):\n",
    "    answers = df[idx_questions_per_post_test[idx][0]]\n",
    "    count_ans = answers.to_list()\n",
    "\n",
    "    dict_count = dict()\n",
    "    for i in range(1, 6):\n",
    "        dict_count[i] = count_ans.count(i)\n",
    "\n",
    "    dict_count\n",
    "\n",
    "    # create DataFrame from dict_count\n",
    "    data = {\n",
    "        \"Respuesta\": list(dict_count.keys()),\n",
    "        \"Cantidad\": list(dict_count.values())\n",
    "    }\n",
    "\n",
    "    df_count = pl.DataFrame(data)\n",
    "    df_count\n",
    "\n",
    "    fig.add_trace(\n",
    "        go.Bar(\n",
    "            x=df_count['Respuesta'],\n",
    "            y=df_count['Cantidad'],\n",
    "            name=f'Noticia {idx + 1}',\n",
    "            text=df_count['Cantidad'],\n",
    "            textposition='outside'\n",
    "        ),\n",
    "        row=1, col=idx + 1\n",
    "    )\n",
    "    \n",
    "    # calculate mean and median and standard deviation\n",
    "    mean = np.mean(count_ans)\n",
    "    median = np.median(count_ans)\n",
    "    std_dev = np.std(count_ans)\n",
    "    print(f\"Noticia {idx + 1}: {idx_questions_per_post_test[0][0]}\")\n",
    "    print(f\"Media: {mean}, Mediana: {median}, Desviación estándar: {std_dev}\")\n",
    "    print(\"\\n\")\n",
    "\n",
    "fig.update_layout(\n",
    "    title_text=idx_questions_per_post_test[0][0],\n",
    "    height=800,\n",
    "    width=1200,\n",
    "    font=dict(size=20)\n",
    ")\n",
    "display(fig)\n",
    "fig.write_image(\"1_posts_question.png\")"
   ]
  },
  {
   "cell_type": "markdown",
   "id": "31d59470",
   "metadata": {},
   "source": [
    "## Prueba: ¿Crees que esta noticia es verdadera o falsa?  "
   ]
  },
  {
   "cell_type": "code",
   "execution_count": null,
   "id": "8d5b03ac",
   "metadata": {},
   "outputs": [],
   "source": [
    "from plotly.subplots import make_subplots\n",
    "import plotly.graph_objects as go\n",
    "\n",
    "# Create a subplot with 1 rows and 5 column\n",
    "fig = make_subplots(rows=1, cols=5, shared_xaxes=True, vertical_spacing=0.02)\n",
    "\n",
    "dict_correct_answers = {\n",
    "    0: 0,\n",
    "    1: 0,\n",
    "    2: 1,\n",
    "    3: 1,\n",
    "    4: 0\n",
    "}\n",
    "\n",
    "for idx, question in enumerate(idx_questions_per_post_test):\n",
    "    answers = df[idx_questions_per_post_test[idx][1]]\n",
    "    count_ans = answers.to_list()\n",
    "\n",
    "    dict_count = dict()\n",
    "    for i in [\"Verdadera.\", \"Falsa.\"]:\n",
    "        dict_count[i] = count_ans.count(i)\n",
    "    \n",
    "    response_correct = {\n",
    "        \"Verdadera.\": 0,\n",
    "        \"Falsa.\": 1\n",
    "    }\n",
    "\n",
    "    # create DataFrame from dict_count\n",
    "    data = {\n",
    "        \"Respuesta\": list([i + (\"✅\" if dict_correct_answers[idx] != response_correct[i] else \"❌\") for i in dict_count.keys()]),\n",
    "        \"Cantidad\": list(dict_count.values())\n",
    "    }\n",
    "\n",
    "    df_count = pl.DataFrame(data)\n",
    "\n",
    "    # Create a bar trace for the current question\n",
    "    trace = go.Bar(\n",
    "        x=df_count['Respuesta'],\n",
    "        y=df_count['Cantidad'],\n",
    "        name=f'Noticia {idx + 1}: {idx_questions_per_post_test[idx][0]}',\n",
    "        text=df_count['Cantidad'],\n",
    "        textposition='auto'\n",
    "    )\n",
    "\n",
    "    # Add the trace to the subplot\n",
    "    fig.add_trace(trace, row=1, col=idx + 1)\n",
    "\n",
    "# Update layout\n",
    "fig.update_layout(\n",
    "    height=900,  # Adjust the height as needed\n",
    "    width=1200,  # Adjust the width as needed\n",
    "    title_text='¿Crees que la noticia es verdadera o falsa?',\n",
    "    showlegend=False,\n",
    "    font=dict(size=20)\n",
    ")\n",
    "display(fig)"
   ]
  },
  {
   "cell_type": "markdown",
   "id": "2ba281e8",
   "metadata": {},
   "source": [
    "## Prueba: ¿Piensas que esta noticia fue creada por una persona humana o por una inteligencia artificial?  "
   ]
  },
  {
   "cell_type": "code",
   "execution_count": null,
   "id": "5cb27e62",
   "metadata": {},
   "outputs": [],
   "source": [
    "from plotly.subplots import make_subplots\n",
    "import plotly.graph_objects as go\n",
    "\n",
    "fig = make_subplots(rows=1, cols=5, shared_xaxes=True, vertical_spacing=0.02)\n",
    "\n",
    "dict_correct_answers = {\n",
    "    0: 0,\n",
    "    1: 1,\n",
    "    2: 0,\n",
    "    3: 0,\n",
    "    4: 1\n",
    "}\n",
    "\n",
    "for idx, question in enumerate(idx_questions_per_post_test):\n",
    "    answers = df[idx_questions_per_post_test[idx][2]]\n",
    "    count_ans = answers.to_list()\n",
    "\n",
    "    dict_count = dict()\n",
    "    for i in [\"Humano.\", \"Inteligencia Artificial.\"]:\n",
    "        dict_count[i] = count_ans.count(i)\n",
    "\n",
    "    response_correct = {\n",
    "        \"Humano.\": 0,\n",
    "        \"Inteligencia Artificial.\": 1\n",
    "    }\n",
    "\n",
    "    abrev_dict = {\n",
    "        \"Humano.\": \"Hum.\",\n",
    "        \"Inteligencia Artificial.\": \"IA\"\n",
    "    }\n",
    "\n",
    "    data = {\n",
    "        \"Respuesta\": list([abrev_dict[i] + (\"✅\" if dict_correct_answers[idx] == response_correct[i] else \"❌\") for i in dict_count.keys()]),\n",
    "        \"Cantidad\": list(dict_count.values())\n",
    "    }\n",
    "\n",
    "    df_count = pl.DataFrame(data)\n",
    "\n",
    "    trace = go.Bar(\n",
    "        x=df_count['Respuesta'],\n",
    "        y=df_count['Cantidad'],\n",
    "        name=f'Noticia {idx + 1}: {idx_questions_per_post_test[idx][0]}',\n",
    "        text=df_count['Cantidad'],\n",
    "        textposition='auto'\n",
    "    )\n",
    "    fig.add_trace(trace, row=1, col=idx + 1)\n",
    "\n",
    "\n",
    "scale_factor = 3\n",
    "fig.update_layout(\n",
    "    height=900,\n",
    "    width=1200,  \n",
    "    title_text='¿Quién crees que creó la noticia?',\n",
    "    font=dict(size=20),\n",
    "    showlegend=False\n",
    ")\n",
    "display(fig)"
   ]
  },
  {
   "cell_type": "markdown",
   "id": "9cd8f021",
   "metadata": {},
   "source": [
    "# Minería de Texto (Topic Modelling)"
   ]
  },
  {
   "cell_type": "markdown",
   "id": "aa098469",
   "metadata": {},
   "source": [
    "## Extraer Stop Words"
   ]
  },
  {
   "cell_type": "code",
   "execution_count": 13,
   "id": "ba9ab93d",
   "metadata": {},
   "outputs": [
    {
     "name": "stdout",
     "output_type": "stream",
     "text": [
      "['algún', 'alguna', 'algunas', 'alguno', 'algunos', 'ambos', 'ampleamos', 'ante', 'antes', 'aquel', 'aquellas', 'aquellos', 'aqui', 'arriba', 'atras', 'bajo', 'bastante', 'bien', 'cada', 'cierta', 'ciertas', 'cierto', 'ciertos', 'como', 'con', 'conseguimos', 'conseguir', 'consigo', 'consigue', 'consiguen', 'consigues', 'cual', 'cuando', 'dentro', 'desde', 'donde', 'dos', 'el', 'ellas', 'ellos', 'empleais', 'emplean', 'emplear', 'empleas', 'empleo', 'en', 'encima', 'entonces', 'entre', 'era', 'eramos', 'eran', 'eras', 'eres', 'es', 'esta', 'estaba', 'estado', 'estais', 'estamos', 'estan', 'estoy', 'fin', 'fue', 'fueron', 'fui', 'fuimos', 'gueno', 'ha', 'hace', 'haceis', 'hacemos', 'hacen', 'hacer', 'haces', 'hago', 'incluso', 'intenta', 'intentais', 'intentamos', 'intentan', 'intentar', 'intentas', 'intento', 'ir', 'la', 'largo', 'las', 'lo', 'los', 'mientras', 'mio', 'modo', 'muchos', 'muy', 'nos', 'nosotros', 'otro', 'para', 'pero', 'podeis', 'podemos', 'poder', 'podria', 'podriais', 'podriamos', 'podrian', 'podrias', 'por', 'por qué', 'porque', 'primero', 'puede', 'pueden', 'puedo', 'quien', 'sabe', 'sabeis', 'sabemos', 'saben', 'saber', 'sabes', 'ser', 'si', 'siendo', 'sin', 'sobre', 'sois', 'solamente', 'solo', 'somos', 'soy', 'su', 'sus', 'también', 'teneis', 'tenemos', 'tener', 'tengo', 'tiempo', 'tiene', 'tienen', 'todo', 'trabaja', 'trabajais', 'trabajamos', 'trabajan', 'trabajar', 'trabajas', 'trabajo', 'tras', 'tuyo', 'ultimo', 'un', 'una', 'unas', 'uno', 'unos', 'usa', 'usais', 'usamos', 'usan', 'usar', 'usas', 'uso', 'va', 'vais', 'valor', 'vamos', 'van', 'vaya', 'verdad', 'verdadera', 'verdadero', 'vosotras', 'vosotros', 'voy', 'yo', 'él', 'ésta', 'éstas', 'éste', 'éstos', 'última', 'últimas', 'último', 'últimos', 'a', 'añadió', 'aún', 'actualmente', 'adelante', 'además', 'afirmó', 'agregó', 'ahí', 'ahora', 'al', 'algo', 'alrededor', 'anterior', 'apenas', 'aproximadamente', 'aquí', 'así', 'aseguró', 'aunque', 'ayer', 'buen', 'buena', 'buenas', 'bueno', 'buenos', 'cómo', 'casi', 'cerca', 'cinco', 'comentó', 'conocer', 'consideró', 'considera', 'contra', 'cosas', 'creo', 'cuales', 'cualquier', 'cuanto', 'cuatro', 'cuenta', 'da', 'dado', 'dan', 'dar', 'de', 'debe', 'deben', 'debido', 'decir', 'dejó', 'del', 'demás', 'después', 'dice', 'dicen', 'dicho', 'dieron', 'diferente', 'diferentes', 'dijeron', 'dijo', 'dio', 'durante', 'e', 'ejemplo', 'ella', 'ello', 'embargo', 'encuentra', 'esa', 'esas', 'ese', 'eso', 'esos', 'está', 'están', 'estaban', 'estar', 'estará', 'estas', 'este', 'esto', 'estos', 'estuvo', 'ex', 'existe', 'existen', 'explicó', 'expresó', 'fuera', 'gran', 'grandes', 'había', 'habían', 'haber', 'habrá', 'hacerlo', 'hacia', 'haciendo', 'han', 'hasta', 'hay', 'haya', 'he', 'hecho', 'hemos', 'hicieron', 'hizo', 'hoy', 'hubo', 'igual', 'indicó', 'informó', 'junto', 'lado', 'le', 'les', 'llegó', 'lleva', 'llevar', 'luego', 'lugar', 'más', 'manera', 'manifestó', 'mayor', 'me', 'mediante', 'mejor', 'mencionó', 'menos', 'mi', 'misma', 'mismas', 'mismo', 'mismos', 'momento', 'mucha', 'muchas', 'mucho', 'nada', 'nadie', 'ni', 'ningún', 'ninguna', 'ningunas', 'ninguno', 'ningunos', 'no', 'nosotras', 'nuestra', 'nuestras', 'nuestro', 'nuestros', 'nueva', 'nuevas', 'nuevo', 'nuevos', 'nunca', 'o', 'ocho', 'otra', 'otras', 'otros', 'parece', 'parte', 'partir', 'pasada', 'pasado', 'pesar', 'poca', 'pocas', 'poco', 'pocos', 'podrá', 'podrán', 'podría', 'podrían', 'poner', 'posible', 'próximo', 'próximos', 'primer', 'primera', 'primeros', 'principalmente', 'propia', 'propias', 'propio', 'propios', 'pudo', 'pueda', 'pues', 'qué', 'que', 'quedó', 'queremos', 'quién', 'quienes', 'quiere', 'realizó', 'realizado', 'realizar', 'respecto', 'sí', 'sólo', 'se', 'señaló', 'sea', 'sean', 'según', 'segunda', 'segundo', 'seis', 'será', 'serán', 'sería', 'sido', 'siempre', 'siete', 'sigue', 'siguiente', 'sino', 'sola', 'solas', 'solos', 'son', 'tal', 'tampoco', 'tan', 'tanto', 'tenía', 'tendrá', 'tendrán', 'tenga', 'tenido', 'tercera', 'toda', 'todas', 'todavía', 'todos', 'total', 'trata', 'través', 'tres', 'tuvo', 'usted', 'varias', 'varios', 'veces', 'ver', 'vez', 'y', 'ya']\n"
     ]
    }
   ],
   "source": [
    "stopwords = []\n",
    "\n",
    "with open(\"stop_words_spanish.txt\", encoding=\"utf-8\") as sw:\n",
    "    stopwords = [line.rstrip(\"\\n\") for line in sw.readlines()]\n",
    "print(stopwords)"
   ]
  },
  {
   "cell_type": "markdown",
   "id": "a7ea8b20",
   "metadata": {},
   "source": [
    "## Topic Modelling"
   ]
  },
  {
   "cell_type": "code",
   "execution_count": 17,
   "id": "fbaaa653",
   "metadata": {},
   "outputs": [
    {
     "name": "stdout",
     "output_type": "stream",
     "text": [
      "Pregunta: La noticia 1 es Falsa y esta generada por un humano, ¿Qué tan verídica te pareció esta noticia y por que?.\n",
      "\n",
      "Tema 1:\n",
      "fuente, falsa, confiable, persona, generar\n",
      "\n",
      "Tema 2:\n",
      "falsa, información, presidente, candidata, fuentes\n",
      "\n",
      "Tema 3:\n",
      "noticias, falsa, ve, veridica, twitter\n",
      "\n",
      "Tema 4:\n",
      "noticia, imágenes, persona, forma, palabras\n",
      "\n",
      "Tema 5:\n",
      "verídica, pareció, oficial, fuente, personal\n",
      "\n",
      "## Tema 1\n"
     ]
    },
    {
     "data": {
      "text/html": [
       "<div><style>\n",
       ".dataframe > thead > tr,\n",
       ".dataframe > tbody > tr {\n",
       "  text-align: right;\n",
       "  white-space: pre-wrap;\n",
       "}\n",
       "</style>\n",
       "<small>shape: (5, 3)</small><table border=\"1\" class=\"dataframe\"><thead><tr><th>Palabra</th><th>Importancia en Tema</th><th>Frecuencia Total (Corpus)</th></tr><tr><td>str</td><td>str</td><td>i64</td></tr></thead><tbody><tr><td>&quot;fuente&quot;</td><td>&quot;8.15&quot;</td><td>10</td></tr><tr><td>&quot;falsa&quot;</td><td>&quot;5.91&quot;</td><td>10</td></tr><tr><td>&quot;confiable&quot;</td><td>&quot;5.16&quot;</td><td>6</td></tr><tr><td>&quot;persona&quot;</td><td>&quot;3.20&quot;</td><td>6</td></tr><tr><td>&quot;generar&quot;</td><td>&quot;3.20&quot;</td><td>3</td></tr></tbody></table></div>"
      ],
      "text/plain": [
       "shape: (5, 3)\n",
       "┌───────────┬─────────────────────┬───────────────────────────┐\n",
       "│ Palabra   ┆ Importancia en Tema ┆ Frecuencia Total (Corpus) │\n",
       "│ ---       ┆ ---                 ┆ ---                       │\n",
       "│ str       ┆ str                 ┆ i64                       │\n",
       "╞═══════════╪═════════════════════╪═══════════════════════════╡\n",
       "│ fuente    ┆ 8.15                ┆ 10                        │\n",
       "│ falsa     ┆ 5.91                ┆ 10                        │\n",
       "│ confiable ┆ 5.16                ┆ 6                         │\n",
       "│ persona   ┆ 3.20                ┆ 6                         │\n",
       "│ generar   ┆ 3.20                ┆ 3                         │\n",
       "└───────────┴─────────────────────┴───────────────────────────┘"
      ]
     },
     "metadata": {},
     "output_type": "display_data"
    },
    {
     "name": "stdout",
     "output_type": "stream",
     "text": [
      "\n",
      "## Tema 2\n"
     ]
    },
    {
     "data": {
      "text/html": [
       "<div><style>\n",
       ".dataframe > thead > tr,\n",
       ".dataframe > tbody > tr {\n",
       "  text-align: right;\n",
       "  white-space: pre-wrap;\n",
       "}\n",
       "</style>\n",
       "<small>shape: (5, 3)</small><table border=\"1\" class=\"dataframe\"><thead><tr><th>Palabra</th><th>Importancia en Tema</th><th>Frecuencia Total (Corpus)</th></tr><tr><td>str</td><td>str</td><td>i64</td></tr></thead><tbody><tr><td>&quot;falsa&quot;</td><td>&quot;2.48&quot;</td><td>10</td></tr><tr><td>&quot;información&quot;</td><td>&quot;2.20&quot;</td><td>3</td></tr><tr><td>&quot;presidente&quot;</td><td>&quot;2.20&quot;</td><td>2</td></tr><tr><td>&quot;candidata&quot;</td><td>&quot;2.20&quot;</td><td>2</td></tr><tr><td>&quot;fuentes&quot;</td><td>&quot;2.20&quot;</td><td>2</td></tr></tbody></table></div>"
      ],
      "text/plain": [
       "shape: (5, 3)\n",
       "┌─────────────┬─────────────────────┬───────────────────────────┐\n",
       "│ Palabra     ┆ Importancia en Tema ┆ Frecuencia Total (Corpus) │\n",
       "│ ---         ┆ ---                 ┆ ---                       │\n",
       "│ str         ┆ str                 ┆ i64                       │\n",
       "╞═════════════╪═════════════════════╪═══════════════════════════╡\n",
       "│ falsa       ┆ 2.48                ┆ 10                        │\n",
       "│ información ┆ 2.20                ┆ 3                         │\n",
       "│ presidente  ┆ 2.20                ┆ 2                         │\n",
       "│ candidata   ┆ 2.20                ┆ 2                         │\n",
       "│ fuentes     ┆ 2.20                ┆ 2                         │\n",
       "└─────────────┴─────────────────────┴───────────────────────────┘"
      ]
     },
     "metadata": {},
     "output_type": "display_data"
    },
    {
     "name": "stdout",
     "output_type": "stream",
     "text": [
      "\n",
      "## Tema 3\n"
     ]
    },
    {
     "data": {
      "text/html": [
       "<div><style>\n",
       ".dataframe > thead > tr,\n",
       ".dataframe > tbody > tr {\n",
       "  text-align: right;\n",
       "  white-space: pre-wrap;\n",
       "}\n",
       "</style>\n",
       "<small>shape: (5, 3)</small><table border=\"1\" class=\"dataframe\"><thead><tr><th>Palabra</th><th>Importancia en Tema</th><th>Frecuencia Total (Corpus)</th></tr><tr><td>str</td><td>str</td><td>i64</td></tr></thead><tbody><tr><td>&quot;noticias&quot;</td><td>&quot;3.21&quot;</td><td>4</td></tr><tr><td>&quot;falsa&quot;</td><td>&quot;2.20&quot;</td><td>10</td></tr><tr><td>&quot;ve&quot;</td><td>&quot;2.20&quot;</td><td>3</td></tr><tr><td>&quot;veridica&quot;</td><td>&quot;2.20&quot;</td><td>3</td></tr><tr><td>&quot;twitter&quot;</td><td>&quot;1.20&quot;</td><td>4</td></tr></tbody></table></div>"
      ],
      "text/plain": [
       "shape: (5, 3)\n",
       "┌──────────┬─────────────────────┬───────────────────────────┐\n",
       "│ Palabra  ┆ Importancia en Tema ┆ Frecuencia Total (Corpus) │\n",
       "│ ---      ┆ ---                 ┆ ---                       │\n",
       "│ str      ┆ str                 ┆ i64                       │\n",
       "╞══════════╪═════════════════════╪═══════════════════════════╡\n",
       "│ noticias ┆ 3.21                ┆ 4                         │\n",
       "│ falsa    ┆ 2.20                ┆ 10                        │\n",
       "│ ve       ┆ 2.20                ┆ 3                         │\n",
       "│ veridica ┆ 2.20                ┆ 3                         │\n",
       "│ twitter  ┆ 1.20                ┆ 4                         │\n",
       "└──────────┴─────────────────────┴───────────────────────────┘"
      ]
     },
     "metadata": {},
     "output_type": "display_data"
    },
    {
     "name": "stdout",
     "output_type": "stream",
     "text": [
      "\n",
      "## Tema 4\n"
     ]
    },
    {
     "data": {
      "text/html": [
       "<div><style>\n",
       ".dataframe > thead > tr,\n",
       ".dataframe > tbody > tr {\n",
       "  text-align: right;\n",
       "  white-space: pre-wrap;\n",
       "}\n",
       "</style>\n",
       "<small>shape: (5, 3)</small><table border=\"1\" class=\"dataframe\"><thead><tr><th>Palabra</th><th>Importancia en Tema</th><th>Frecuencia Total (Corpus)</th></tr><tr><td>str</td><td>str</td><td>i64</td></tr></thead><tbody><tr><td>&quot;noticia&quot;</td><td>&quot;4.21&quot;</td><td>6</td></tr><tr><td>&quot;imágenes&quot;</td><td>&quot;3.20&quot;</td><td>3</td></tr><tr><td>&quot;persona&quot;</td><td>&quot;2.20&quot;</td><td>6</td></tr><tr><td>&quot;forma&quot;</td><td>&quot;2.20&quot;</td><td>2</td></tr><tr><td>&quot;palabras&quot;</td><td>&quot;1.91&quot;</td><td>4</td></tr></tbody></table></div>"
      ],
      "text/plain": [
       "shape: (5, 3)\n",
       "┌──────────┬─────────────────────┬───────────────────────────┐\n",
       "│ Palabra  ┆ Importancia en Tema ┆ Frecuencia Total (Corpus) │\n",
       "│ ---      ┆ ---                 ┆ ---                       │\n",
       "│ str      ┆ str                 ┆ i64                       │\n",
       "╞══════════╪═════════════════════╪═══════════════════════════╡\n",
       "│ noticia  ┆ 4.21                ┆ 6                         │\n",
       "│ imágenes ┆ 3.20                ┆ 3                         │\n",
       "│ persona  ┆ 2.20                ┆ 6                         │\n",
       "│ forma    ┆ 2.20                ┆ 2                         │\n",
       "│ palabras ┆ 1.91                ┆ 4                         │\n",
       "└──────────┴─────────────────────┴───────────────────────────┘"
      ]
     },
     "metadata": {},
     "output_type": "display_data"
    },
    {
     "name": "stdout",
     "output_type": "stream",
     "text": [
      "\n",
      "## Tema 5\n"
     ]
    },
    {
     "data": {
      "text/html": [
       "<div><style>\n",
       ".dataframe > thead > tr,\n",
       ".dataframe > tbody > tr {\n",
       "  text-align: right;\n",
       "  white-space: pre-wrap;\n",
       "}\n",
       "</style>\n",
       "<small>shape: (5, 3)</small><table border=\"1\" class=\"dataframe\"><thead><tr><th>Palabra</th><th>Importancia en Tema</th><th>Frecuencia Total (Corpus)</th></tr><tr><td>str</td><td>str</td><td>i64</td></tr></thead><tbody><tr><td>&quot;verídica&quot;</td><td>&quot;11.21&quot;</td><td>13</td></tr><tr><td>&quot;pareció&quot;</td><td>&quot;3.21&quot;</td><td>6</td></tr><tr><td>&quot;oficial&quot;</td><td>&quot;3.20&quot;</td><td>3</td></tr><tr><td>&quot;fuente&quot;</td><td>&quot;2.25&quot;</td><td>10</td></tr><tr><td>&quot;personal&quot;</td><td>&quot;2.20&quot;</td><td>3</td></tr></tbody></table></div>"
      ],
      "text/plain": [
       "shape: (5, 3)\n",
       "┌──────────┬─────────────────────┬───────────────────────────┐\n",
       "│ Palabra  ┆ Importancia en Tema ┆ Frecuencia Total (Corpus) │\n",
       "│ ---      ┆ ---                 ┆ ---                       │\n",
       "│ str      ┆ str                 ┆ i64                       │\n",
       "╞══════════╪═════════════════════╪═══════════════════════════╡\n",
       "│ verídica ┆ 11.21               ┆ 13                        │\n",
       "│ pareció  ┆ 3.21                ┆ 6                         │\n",
       "│ oficial  ┆ 3.20                ┆ 3                         │\n",
       "│ fuente   ┆ 2.25                ┆ 10                        │\n",
       "│ personal ┆ 2.20                ┆ 3                         │\n",
       "└──────────┴─────────────────────┴───────────────────────────┘"
      ]
     },
     "metadata": {},
     "output_type": "display_data"
    },
    {
     "name": "stdout",
     "output_type": "stream",
     "text": [
      "Pregunta: La noticia 2 es Falsa y esta generada por Inteligencia Artificial, ¿Qué tan verídica te pareció y por qué?\n",
      "\n",
      "Tema 1:\n",
      "ve, verídica, real, video, aparte\n",
      "\n",
      "Tema 2:\n",
      "falsa, real, animal, ia, emocional\n",
      "\n",
      "Tema 3:\n",
      "veridica, ia, canguro, real, apoyo\n",
      "\n",
      "Tema 4:\n",
      "pareció, canguro, noticia, verídica, vídeo\n",
      "\n",
      "Tema 5:\n",
      "nota, real, canguro, demasiado, animales\n",
      "\n",
      "## Tema 1\n"
     ]
    },
    {
     "data": {
      "text/html": [
       "<div><style>\n",
       ".dataframe > thead > tr,\n",
       ".dataframe > tbody > tr {\n",
       "  text-align: right;\n",
       "  white-space: pre-wrap;\n",
       "}\n",
       "</style>\n",
       "<small>shape: (5, 3)</small><table border=\"1\" class=\"dataframe\"><thead><tr><th>Palabra</th><th>Importancia en Tema</th><th>Frecuencia Total (Corpus)</th></tr><tr><td>str</td><td>str</td><td>i64</td></tr></thead><tbody><tr><td>&quot;ve&quot;</td><td>&quot;6.20&quot;</td><td>8</td></tr><tr><td>&quot;verídica&quot;</td><td>&quot;6.07&quot;</td><td>11</td></tr><tr><td>&quot;real&quot;</td><td>&quot;4.19&quot;</td><td>13</td></tr><tr><td>&quot;video&quot;</td><td>&quot;4.14&quot;</td><td>7</td></tr><tr><td>&quot;aparte&quot;</td><td>&quot;3.20&quot;</td><td>4</td></tr></tbody></table></div>"
      ],
      "text/plain": [
       "shape: (5, 3)\n",
       "┌──────────┬─────────────────────┬───────────────────────────┐\n",
       "│ Palabra  ┆ Importancia en Tema ┆ Frecuencia Total (Corpus) │\n",
       "│ ---      ┆ ---                 ┆ ---                       │\n",
       "│ str      ┆ str                 ┆ i64                       │\n",
       "╞══════════╪═════════════════════╪═══════════════════════════╡\n",
       "│ ve       ┆ 6.20                ┆ 8                         │\n",
       "│ verídica ┆ 6.07                ┆ 11                        │\n",
       "│ real     ┆ 4.19                ┆ 13                        │\n",
       "│ video    ┆ 4.14                ┆ 7                         │\n",
       "│ aparte   ┆ 3.20                ┆ 4                         │\n",
       "└──────────┴─────────────────────┴───────────────────────────┘"
      ]
     },
     "metadata": {},
     "output_type": "display_data"
    },
    {
     "name": "stdout",
     "output_type": "stream",
     "text": [
      "\n",
      "## Tema 2\n"
     ]
    },
    {
     "data": {
      "text/html": [
       "<div><style>\n",
       ".dataframe > thead > tr,\n",
       ".dataframe > tbody > tr {\n",
       "  text-align: right;\n",
       "  white-space: pre-wrap;\n",
       "}\n",
       "</style>\n",
       "<small>shape: (5, 3)</small><table border=\"1\" class=\"dataframe\"><thead><tr><th>Palabra</th><th>Importancia en Tema</th><th>Frecuencia Total (Corpus)</th></tr><tr><td>str</td><td>str</td><td>i64</td></tr></thead><tbody><tr><td>&quot;falsa&quot;</td><td>&quot;5.21&quot;</td><td>7</td></tr><tr><td>&quot;real&quot;</td><td>&quot;4.20&quot;</td><td>13</td></tr><tr><td>&quot;animal&quot;</td><td>&quot;2.20&quot;</td><td>3</td></tr><tr><td>&quot;ia&quot;</td><td>&quot;2.20&quot;</td><td>10</td></tr><tr><td>&quot;emocional&quot;</td><td>&quot;2.20&quot;</td><td>3</td></tr></tbody></table></div>"
      ],
      "text/plain": [
       "shape: (5, 3)\n",
       "┌───────────┬─────────────────────┬───────────────────────────┐\n",
       "│ Palabra   ┆ Importancia en Tema ┆ Frecuencia Total (Corpus) │\n",
       "│ ---       ┆ ---                 ┆ ---                       │\n",
       "│ str       ┆ str                 ┆ i64                       │\n",
       "╞═══════════╪═════════════════════╪═══════════════════════════╡\n",
       "│ falsa     ┆ 5.21                ┆ 7                         │\n",
       "│ real      ┆ 4.20                ┆ 13                        │\n",
       "│ animal    ┆ 2.20                ┆ 3                         │\n",
       "│ ia        ┆ 2.20                ┆ 10                        │\n",
       "│ emocional ┆ 2.20                ┆ 3                         │\n",
       "└───────────┴─────────────────────┴───────────────────────────┘"
      ]
     },
     "metadata": {},
     "output_type": "display_data"
    },
    {
     "name": "stdout",
     "output_type": "stream",
     "text": [
      "\n",
      "## Tema 3\n"
     ]
    },
    {
     "data": {
      "text/html": [
       "<div><style>\n",
       ".dataframe > thead > tr,\n",
       ".dataframe > tbody > tr {\n",
       "  text-align: right;\n",
       "  white-space: pre-wrap;\n",
       "}\n",
       "</style>\n",
       "<small>shape: (5, 3)</small><table border=\"1\" class=\"dataframe\"><thead><tr><th>Palabra</th><th>Importancia en Tema</th><th>Frecuencia Total (Corpus)</th></tr><tr><td>str</td><td>str</td><td>i64</td></tr></thead><tbody><tr><td>&quot;veridica&quot;</td><td>&quot;4.22&quot;</td><td>5</td></tr><tr><td>&quot;ia&quot;</td><td>&quot;4.21&quot;</td><td>10</td></tr><tr><td>&quot;canguro&quot;</td><td>&quot;3.20&quot;</td><td>12</td></tr><tr><td>&quot;real&quot;</td><td>&quot;3.19&quot;</td><td>13</td></tr><tr><td>&quot;apoyo&quot;</td><td>&quot;2.20&quot;</td><td>5</td></tr></tbody></table></div>"
      ],
      "text/plain": [
       "shape: (5, 3)\n",
       "┌──────────┬─────────────────────┬───────────────────────────┐\n",
       "│ Palabra  ┆ Importancia en Tema ┆ Frecuencia Total (Corpus) │\n",
       "│ ---      ┆ ---                 ┆ ---                       │\n",
       "│ str      ┆ str                 ┆ i64                       │\n",
       "╞══════════╪═════════════════════╪═══════════════════════════╡\n",
       "│ veridica ┆ 4.22                ┆ 5                         │\n",
       "│ ia       ┆ 4.21                ┆ 10                        │\n",
       "│ canguro  ┆ 3.20                ┆ 12                        │\n",
       "│ real     ┆ 3.19                ┆ 13                        │\n",
       "│ apoyo    ┆ 2.20                ┆ 5                         │\n",
       "└──────────┴─────────────────────┴───────────────────────────┘"
      ]
     },
     "metadata": {},
     "output_type": "display_data"
    },
    {
     "name": "stdout",
     "output_type": "stream",
     "text": [
      "\n",
      "## Tema 4\n"
     ]
    },
    {
     "data": {
      "text/html": [
       "<div><style>\n",
       ".dataframe > thead > tr,\n",
       ".dataframe > tbody > tr {\n",
       "  text-align: right;\n",
       "  white-space: pre-wrap;\n",
       "}\n",
       "</style>\n",
       "<small>shape: (5, 3)</small><table border=\"1\" class=\"dataframe\"><thead><tr><th>Palabra</th><th>Importancia en Tema</th><th>Frecuencia Total (Corpus)</th></tr><tr><td>str</td><td>str</td><td>i64</td></tr></thead><tbody><tr><td>&quot;pareció&quot;</td><td>&quot;6.19&quot;</td><td>7</td></tr><tr><td>&quot;canguro&quot;</td><td>&quot;5.20&quot;</td><td>12</td></tr><tr><td>&quot;noticia&quot;</td><td>&quot;4.20&quot;</td><td>5</td></tr><tr><td>&quot;verídica&quot;</td><td>&quot;3.33&quot;</td><td>11</td></tr><tr><td>&quot;vídeo&quot;</td><td>&quot;3.20&quot;</td><td>4</td></tr></tbody></table></div>"
      ],
      "text/plain": [
       "shape: (5, 3)\n",
       "┌──────────┬─────────────────────┬───────────────────────────┐\n",
       "│ Palabra  ┆ Importancia en Tema ┆ Frecuencia Total (Corpus) │\n",
       "│ ---      ┆ ---                 ┆ ---                       │\n",
       "│ str      ┆ str                 ┆ i64                       │\n",
       "╞══════════╪═════════════════════╪═══════════════════════════╡\n",
       "│ pareció  ┆ 6.19                ┆ 7                         │\n",
       "│ canguro  ┆ 5.20                ┆ 12                        │\n",
       "│ noticia  ┆ 4.20                ┆ 5                         │\n",
       "│ verídica ┆ 3.33                ┆ 11                        │\n",
       "│ vídeo    ┆ 3.20                ┆ 4                         │\n",
       "└──────────┴─────────────────────┴───────────────────────────┘"
      ]
     },
     "metadata": {},
     "output_type": "display_data"
    },
    {
     "name": "stdout",
     "output_type": "stream",
     "text": [
      "\n",
      "## Tema 5\n"
     ]
    },
    {
     "data": {
      "text/html": [
       "<div><style>\n",
       ".dataframe > thead > tr,\n",
       ".dataframe > tbody > tr {\n",
       "  text-align: right;\n",
       "  white-space: pre-wrap;\n",
       "}\n",
       "</style>\n",
       "<small>shape: (5, 3)</small><table border=\"1\" class=\"dataframe\"><thead><tr><th>Palabra</th><th>Importancia en Tema</th><th>Frecuencia Total (Corpus)</th></tr><tr><td>str</td><td>str</td><td>i64</td></tr></thead><tbody><tr><td>&quot;nota&quot;</td><td>&quot;3.21&quot;</td><td>4</td></tr><tr><td>&quot;real&quot;</td><td>&quot;2.21&quot;</td><td>13</td></tr><tr><td>&quot;canguro&quot;</td><td>&quot;2.20&quot;</td><td>12</td></tr><tr><td>&quot;demasiado&quot;</td><td>&quot;2.20&quot;</td><td>3</td></tr><tr><td>&quot;animales&quot;</td><td>&quot;2.20&quot;</td><td>4</td></tr></tbody></table></div>"
      ],
      "text/plain": [
       "shape: (5, 3)\n",
       "┌───────────┬─────────────────────┬───────────────────────────┐\n",
       "│ Palabra   ┆ Importancia en Tema ┆ Frecuencia Total (Corpus) │\n",
       "│ ---       ┆ ---                 ┆ ---                       │\n",
       "│ str       ┆ str                 ┆ i64                       │\n",
       "╞═══════════╪═════════════════════╪═══════════════════════════╡\n",
       "│ nota      ┆ 3.21                ┆ 4                         │\n",
       "│ real      ┆ 2.21                ┆ 13                        │\n",
       "│ canguro   ┆ 2.20                ┆ 12                        │\n",
       "│ demasiado ┆ 2.20                ┆ 3                         │\n",
       "│ animales  ┆ 2.20                ┆ 4                         │\n",
       "└───────────┴─────────────────────┴───────────────────────────┘"
      ]
     },
     "metadata": {},
     "output_type": "display_data"
    },
    {
     "name": "stdout",
     "output_type": "stream",
     "text": [
      "Pregunta: La noticia 3 es Verdadera y generada por un humano, ¿Qué tan verídica te pareció y por qué?\n",
      "\n",
      "Tema 1:\n",
      "bitcoin, oro, verídica, completa, mas\n",
      "\n",
      "Tema 2:\n",
      "parecio, veridica, seria, publicado, tema\n",
      "\n",
      "Tema 3:\n",
      "verídica, pareció, noticia, tema, real\n",
      "\n",
      "Tema 4:\n",
      "real, gente, medio, imagen, verídico\n",
      "\n",
      "Tema 5:\n",
      "fuente, fecha, publicación, autor, verídica\n",
      "\n",
      "## Tema 1\n"
     ]
    },
    {
     "data": {
      "text/html": [
       "<div><style>\n",
       ".dataframe > thead > tr,\n",
       ".dataframe > tbody > tr {\n",
       "  text-align: right;\n",
       "  white-space: pre-wrap;\n",
       "}\n",
       "</style>\n",
       "<small>shape: (5, 3)</small><table border=\"1\" class=\"dataframe\"><thead><tr><th>Palabra</th><th>Importancia en Tema</th><th>Frecuencia Total (Corpus)</th></tr><tr><td>str</td><td>str</td><td>i64</td></tr></thead><tbody><tr><td>&quot;bitcoin&quot;</td><td>&quot;9.20&quot;</td><td>9</td></tr><tr><td>&quot;oro&quot;</td><td>&quot;3.21&quot;</td><td>4</td></tr><tr><td>&quot;verídica&quot;</td><td>&quot;3.17&quot;</td><td>14</td></tr><tr><td>&quot;completa&quot;</td><td>&quot;2.20&quot;</td><td>3</td></tr><tr><td>&quot;mas&quot;</td><td>&quot;2.20&quot;</td><td>4</td></tr></tbody></table></div>"
      ],
      "text/plain": [
       "shape: (5, 3)\n",
       "┌──────────┬─────────────────────┬───────────────────────────┐\n",
       "│ Palabra  ┆ Importancia en Tema ┆ Frecuencia Total (Corpus) │\n",
       "│ ---      ┆ ---                 ┆ ---                       │\n",
       "│ str      ┆ str                 ┆ i64                       │\n",
       "╞══════════╪═════════════════════╪═══════════════════════════╡\n",
       "│ bitcoin  ┆ 9.20                ┆ 9                         │\n",
       "│ oro      ┆ 3.21                ┆ 4                         │\n",
       "│ verídica ┆ 3.17                ┆ 14                        │\n",
       "│ completa ┆ 2.20                ┆ 3                         │\n",
       "│ mas      ┆ 2.20                ┆ 4                         │\n",
       "└──────────┴─────────────────────┴───────────────────────────┘"
      ]
     },
     "metadata": {},
     "output_type": "display_data"
    },
    {
     "name": "stdout",
     "output_type": "stream",
     "text": [
      "\n",
      "## Tema 2\n"
     ]
    },
    {
     "data": {
      "text/html": [
       "<div><style>\n",
       ".dataframe > thead > tr,\n",
       ".dataframe > tbody > tr {\n",
       "  text-align: right;\n",
       "  white-space: pre-wrap;\n",
       "}\n",
       "</style>\n",
       "<small>shape: (5, 3)</small><table border=\"1\" class=\"dataframe\"><thead><tr><th>Palabra</th><th>Importancia en Tema</th><th>Frecuencia Total (Corpus)</th></tr><tr><td>str</td><td>str</td><td>i64</td></tr></thead><tbody><tr><td>&quot;parecio&quot;</td><td>&quot;3.20&quot;</td><td>3</td></tr><tr><td>&quot;veridica&quot;</td><td>&quot;2.20&quot;</td><td>4</td></tr><tr><td>&quot;seria&quot;</td><td>&quot;2.20&quot;</td><td>3</td></tr><tr><td>&quot;publicado&quot;</td><td>&quot;2.20&quot;</td><td>2</td></tr><tr><td>&quot;tema&quot;</td><td>&quot;1.45&quot;</td><td>5</td></tr></tbody></table></div>"
      ],
      "text/plain": [
       "shape: (5, 3)\n",
       "┌───────────┬─────────────────────┬───────────────────────────┐\n",
       "│ Palabra   ┆ Importancia en Tema ┆ Frecuencia Total (Corpus) │\n",
       "│ ---       ┆ ---                 ┆ ---                       │\n",
       "│ str       ┆ str                 ┆ i64                       │\n",
       "╞═══════════╪═════════════════════╪═══════════════════════════╡\n",
       "│ parecio   ┆ 3.20                ┆ 3                         │\n",
       "│ veridica  ┆ 2.20                ┆ 4                         │\n",
       "│ seria     ┆ 2.20                ┆ 3                         │\n",
       "│ publicado ┆ 2.20                ┆ 2                         │\n",
       "│ tema      ┆ 1.45                ┆ 5                         │\n",
       "└───────────┴─────────────────────┴───────────────────────────┘"
      ]
     },
     "metadata": {},
     "output_type": "display_data"
    },
    {
     "name": "stdout",
     "output_type": "stream",
     "text": [
      "\n",
      "## Tema 3\n"
     ]
    },
    {
     "data": {
      "text/html": [
       "<div><style>\n",
       ".dataframe > thead > tr,\n",
       ".dataframe > tbody > tr {\n",
       "  text-align: right;\n",
       "  white-space: pre-wrap;\n",
       "}\n",
       "</style>\n",
       "<small>shape: (5, 3)</small><table border=\"1\" class=\"dataframe\"><thead><tr><th>Palabra</th><th>Importancia en Tema</th><th>Frecuencia Total (Corpus)</th></tr><tr><td>str</td><td>str</td><td>i64</td></tr></thead><tbody><tr><td>&quot;verídica&quot;</td><td>&quot;8.20&quot;</td><td>14</td></tr><tr><td>&quot;pareció&quot;</td><td>&quot;7.00&quot;</td><td>10</td></tr><tr><td>&quot;noticia&quot;</td><td>&quot;4.21&quot;</td><td>7</td></tr><tr><td>&quot;tema&quot;</td><td>&quot;3.95&quot;</td><td>5</td></tr><tr><td>&quot;real&quot;</td><td>&quot;3.20&quot;</td><td>9</td></tr></tbody></table></div>"
      ],
      "text/plain": [
       "shape: (5, 3)\n",
       "┌──────────┬─────────────────────┬───────────────────────────┐\n",
       "│ Palabra  ┆ Importancia en Tema ┆ Frecuencia Total (Corpus) │\n",
       "│ ---      ┆ ---                 ┆ ---                       │\n",
       "│ str      ┆ str                 ┆ i64                       │\n",
       "╞══════════╪═════════════════════╪═══════════════════════════╡\n",
       "│ verídica ┆ 8.20                ┆ 14                        │\n",
       "│ pareció  ┆ 7.00                ┆ 10                        │\n",
       "│ noticia  ┆ 4.21                ┆ 7                         │\n",
       "│ tema     ┆ 3.95                ┆ 5                         │\n",
       "│ real     ┆ 3.20                ┆ 9                         │\n",
       "└──────────┴─────────────────────┴───────────────────────────┘"
      ]
     },
     "metadata": {},
     "output_type": "display_data"
    },
    {
     "name": "stdout",
     "output_type": "stream",
     "text": [
      "\n",
      "## Tema 4\n"
     ]
    },
    {
     "data": {
      "text/html": [
       "<div><style>\n",
       ".dataframe > thead > tr,\n",
       ".dataframe > tbody > tr {\n",
       "  text-align: right;\n",
       "  white-space: pre-wrap;\n",
       "}\n",
       "</style>\n",
       "<small>shape: (5, 3)</small><table border=\"1\" class=\"dataframe\"><thead><tr><th>Palabra</th><th>Importancia en Tema</th><th>Frecuencia Total (Corpus)</th></tr><tr><td>str</td><td>str</td><td>i64</td></tr></thead><tbody><tr><td>&quot;real&quot;</td><td>&quot;4.20&quot;</td><td>9</td></tr><tr><td>&quot;gente&quot;</td><td>&quot;4.19&quot;</td><td>4</td></tr><tr><td>&quot;medio&quot;</td><td>&quot;2.20&quot;</td><td>2</td></tr><tr><td>&quot;imagen&quot;</td><td>&quot;2.20&quot;</td><td>2</td></tr><tr><td>&quot;verídico&quot;</td><td>&quot;2.20&quot;</td><td>2</td></tr></tbody></table></div>"
      ],
      "text/plain": [
       "shape: (5, 3)\n",
       "┌──────────┬─────────────────────┬───────────────────────────┐\n",
       "│ Palabra  ┆ Importancia en Tema ┆ Frecuencia Total (Corpus) │\n",
       "│ ---      ┆ ---                 ┆ ---                       │\n",
       "│ str      ┆ str                 ┆ i64                       │\n",
       "╞══════════╪═════════════════════╪═══════════════════════════╡\n",
       "│ real     ┆ 4.20                ┆ 9                         │\n",
       "│ gente    ┆ 4.19                ┆ 4                         │\n",
       "│ medio    ┆ 2.20                ┆ 2                         │\n",
       "│ imagen   ┆ 2.20                ┆ 2                         │\n",
       "│ verídico ┆ 2.20                ┆ 2                         │\n",
       "└──────────┴─────────────────────┴───────────────────────────┘"
      ]
     },
     "metadata": {},
     "output_type": "display_data"
    },
    {
     "name": "stdout",
     "output_type": "stream",
     "text": [
      "\n",
      "## Tema 5\n"
     ]
    },
    {
     "data": {
      "text/html": [
       "<div><style>\n",
       ".dataframe > thead > tr,\n",
       ".dataframe > tbody > tr {\n",
       "  text-align: right;\n",
       "  white-space: pre-wrap;\n",
       "}\n",
       "</style>\n",
       "<small>shape: (5, 3)</small><table border=\"1\" class=\"dataframe\"><thead><tr><th>Palabra</th><th>Importancia en Tema</th><th>Frecuencia Total (Corpus)</th></tr><tr><td>str</td><td>str</td><td>i64</td></tr></thead><tbody><tr><td>&quot;fuente&quot;</td><td>&quot;6.21&quot;</td><td>8</td></tr><tr><td>&quot;fecha&quot;</td><td>&quot;6.03&quot;</td><td>7</td></tr><tr><td>&quot;publicación&quot;</td><td>&quot;3.20&quot;</td><td>3</td></tr><tr><td>&quot;autor&quot;</td><td>&quot;3.20&quot;</td><td>3</td></tr><tr><td>&quot;verídica&quot;</td><td>&quot;3.19&quot;</td><td>14</td></tr></tbody></table></div>"
      ],
      "text/plain": [
       "shape: (5, 3)\n",
       "┌─────────────┬─────────────────────┬───────────────────────────┐\n",
       "│ Palabra     ┆ Importancia en Tema ┆ Frecuencia Total (Corpus) │\n",
       "│ ---         ┆ ---                 ┆ ---                       │\n",
       "│ str         ┆ str                 ┆ i64                       │\n",
       "╞═════════════╪═════════════════════╪═══════════════════════════╡\n",
       "│ fuente      ┆ 6.21                ┆ 8                         │\n",
       "│ fecha       ┆ 6.03                ┆ 7                         │\n",
       "│ publicación ┆ 3.20                ┆ 3                         │\n",
       "│ autor       ┆ 3.20                ┆ 3                         │\n",
       "│ verídica    ┆ 3.19                ┆ 14                        │\n",
       "└─────────────┴─────────────────────┴───────────────────────────┘"
      ]
     },
     "metadata": {},
     "output_type": "display_data"
    },
    {
     "name": "stdout",
     "output_type": "stream",
     "text": [
      "Pregunta: La noticia 4 es Verdadera y esta generada por un humano, ¿Qué tan verídica te pareció y por qué?\n",
      "\n",
      "Tema 1:\n",
      "veridica, noticia, ia, tema, ghibli\n",
      "\n",
      "Tema 2:\n",
      "verídica, noticia, fuentes, muestra, escrita\n",
      "\n",
      "Tema 3:\n",
      "pareció, verídica, información, real, forma\n",
      "\n",
      "Tema 4:\n",
      "real, fecha, noticia, texto, mas\n",
      "\n",
      "Tema 5:\n",
      "falsa, fuente, redacción, autor, pensé\n",
      "\n",
      "## Tema 1\n"
     ]
    },
    {
     "data": {
      "text/html": [
       "<div><style>\n",
       ".dataframe > thead > tr,\n",
       ".dataframe > tbody > tr {\n",
       "  text-align: right;\n",
       "  white-space: pre-wrap;\n",
       "}\n",
       "</style>\n",
       "<small>shape: (5, 3)</small><table border=\"1\" class=\"dataframe\"><thead><tr><th>Palabra</th><th>Importancia en Tema</th><th>Frecuencia Total (Corpus)</th></tr><tr><td>str</td><td>str</td><td>i64</td></tr></thead><tbody><tr><td>&quot;veridica&quot;</td><td>&quot;6.20&quot;</td><td>6</td></tr><tr><td>&quot;noticia&quot;</td><td>&quot;5.19&quot;</td><td>13</td></tr><tr><td>&quot;ia&quot;</td><td>&quot;4.21&quot;</td><td>7</td></tr><tr><td>&quot;tema&quot;</td><td>&quot;2.20&quot;</td><td>4</td></tr><tr><td>&quot;ghibli&quot;</td><td>&quot;2.20&quot;</td><td>3</td></tr></tbody></table></div>"
      ],
      "text/plain": [
       "shape: (5, 3)\n",
       "┌──────────┬─────────────────────┬───────────────────────────┐\n",
       "│ Palabra  ┆ Importancia en Tema ┆ Frecuencia Total (Corpus) │\n",
       "│ ---      ┆ ---                 ┆ ---                       │\n",
       "│ str      ┆ str                 ┆ i64                       │\n",
       "╞══════════╪═════════════════════╪═══════════════════════════╡\n",
       "│ veridica ┆ 6.20                ┆ 6                         │\n",
       "│ noticia  ┆ 5.19                ┆ 13                        │\n",
       "│ ia       ┆ 4.21                ┆ 7                         │\n",
       "│ tema     ┆ 2.20                ┆ 4                         │\n",
       "│ ghibli   ┆ 2.20                ┆ 3                         │\n",
       "└──────────┴─────────────────────┴───────────────────────────┘"
      ]
     },
     "metadata": {},
     "output_type": "display_data"
    },
    {
     "name": "stdout",
     "output_type": "stream",
     "text": [
      "\n",
      "## Tema 2\n"
     ]
    },
    {
     "data": {
      "text/html": [
       "<div><style>\n",
       ".dataframe > thead > tr,\n",
       ".dataframe > tbody > tr {\n",
       "  text-align: right;\n",
       "  white-space: pre-wrap;\n",
       "}\n",
       "</style>\n",
       "<small>shape: (5, 3)</small><table border=\"1\" class=\"dataframe\"><thead><tr><th>Palabra</th><th>Importancia en Tema</th><th>Frecuencia Total (Corpus)</th></tr><tr><td>str</td><td>str</td><td>i64</td></tr></thead><tbody><tr><td>&quot;verídica&quot;</td><td>&quot;9.20&quot;</td><td>12</td></tr><tr><td>&quot;noticia&quot;</td><td>&quot;4.19&quot;</td><td>13</td></tr><tr><td>&quot;fuentes&quot;</td><td>&quot;3.21&quot;</td><td>4</td></tr><tr><td>&quot;muestra&quot;</td><td>&quot;3.20&quot;</td><td>3</td></tr><tr><td>&quot;escrita&quot;</td><td>&quot;2.20&quot;</td><td>3</td></tr></tbody></table></div>"
      ],
      "text/plain": [
       "shape: (5, 3)\n",
       "┌──────────┬─────────────────────┬───────────────────────────┐\n",
       "│ Palabra  ┆ Importancia en Tema ┆ Frecuencia Total (Corpus) │\n",
       "│ ---      ┆ ---                 ┆ ---                       │\n",
       "│ str      ┆ str                 ┆ i64                       │\n",
       "╞══════════╪═════════════════════╪═══════════════════════════╡\n",
       "│ verídica ┆ 9.20                ┆ 12                        │\n",
       "│ noticia  ┆ 4.19                ┆ 13                        │\n",
       "│ fuentes  ┆ 3.21                ┆ 4                         │\n",
       "│ muestra  ┆ 3.20                ┆ 3                         │\n",
       "│ escrita  ┆ 2.20                ┆ 3                         │\n",
       "└──────────┴─────────────────────┴───────────────────────────┘"
      ]
     },
     "metadata": {},
     "output_type": "display_data"
    },
    {
     "name": "stdout",
     "output_type": "stream",
     "text": [
      "\n",
      "## Tema 3\n"
     ]
    },
    {
     "data": {
      "text/html": [
       "<div><style>\n",
       ".dataframe > thead > tr,\n",
       ".dataframe > tbody > tr {\n",
       "  text-align: right;\n",
       "  white-space: pre-wrap;\n",
       "}\n",
       "</style>\n",
       "<small>shape: (5, 3)</small><table border=\"1\" class=\"dataframe\"><thead><tr><th>Palabra</th><th>Importancia en Tema</th><th>Frecuencia Total (Corpus)</th></tr><tr><td>str</td><td>str</td><td>i64</td></tr></thead><tbody><tr><td>&quot;pareció&quot;</td><td>&quot;4.20&quot;</td><td>4</td></tr><tr><td>&quot;verídica&quot;</td><td>&quot;3.20&quot;</td><td>12</td></tr><tr><td>&quot;información&quot;</td><td>&quot;2.20&quot;</td><td>3</td></tr><tr><td>&quot;real&quot;</td><td>&quot;1.30&quot;</td><td>9</td></tr><tr><td>&quot;forma&quot;</td><td>&quot;1.20&quot;</td><td>2</td></tr></tbody></table></div>"
      ],
      "text/plain": [
       "shape: (5, 3)\n",
       "┌─────────────┬─────────────────────┬───────────────────────────┐\n",
       "│ Palabra     ┆ Importancia en Tema ┆ Frecuencia Total (Corpus) │\n",
       "│ ---         ┆ ---                 ┆ ---                       │\n",
       "│ str         ┆ str                 ┆ i64                       │\n",
       "╞═════════════╪═════════════════════╪═══════════════════════════╡\n",
       "│ pareció     ┆ 4.20                ┆ 4                         │\n",
       "│ verídica    ┆ 3.20                ┆ 12                        │\n",
       "│ información ┆ 2.20                ┆ 3                         │\n",
       "│ real        ┆ 1.30                ┆ 9                         │\n",
       "│ forma       ┆ 1.20                ┆ 2                         │\n",
       "└─────────────┴─────────────────────┴───────────────────────────┘"
      ]
     },
     "metadata": {},
     "output_type": "display_data"
    },
    {
     "name": "stdout",
     "output_type": "stream",
     "text": [
      "\n",
      "## Tema 4\n"
     ]
    },
    {
     "data": {
      "text/html": [
       "<div><style>\n",
       ".dataframe > thead > tr,\n",
       ".dataframe > tbody > tr {\n",
       "  text-align: right;\n",
       "  white-space: pre-wrap;\n",
       "}\n",
       "</style>\n",
       "<small>shape: (5, 3)</small><table border=\"1\" class=\"dataframe\"><thead><tr><th>Palabra</th><th>Importancia en Tema</th><th>Frecuencia Total (Corpus)</th></tr><tr><td>str</td><td>str</td><td>i64</td></tr></thead><tbody><tr><td>&quot;real&quot;</td><td>&quot;8.10&quot;</td><td>9</td></tr><tr><td>&quot;fecha&quot;</td><td>&quot;4.21&quot;</td><td>6</td></tr><tr><td>&quot;noticia&quot;</td><td>&quot;4.20&quot;</td><td>13</td></tr><tr><td>&quot;texto&quot;</td><td>&quot;2.20&quot;</td><td>2</td></tr><tr><td>&quot;mas&quot;</td><td>&quot;2.20&quot;</td><td>2</td></tr></tbody></table></div>"
      ],
      "text/plain": [
       "shape: (5, 3)\n",
       "┌─────────┬─────────────────────┬───────────────────────────┐\n",
       "│ Palabra ┆ Importancia en Tema ┆ Frecuencia Total (Corpus) │\n",
       "│ ---     ┆ ---                 ┆ ---                       │\n",
       "│ str     ┆ str                 ┆ i64                       │\n",
       "╞═════════╪═════════════════════╪═══════════════════════════╡\n",
       "│ real    ┆ 8.10                ┆ 9                         │\n",
       "│ fecha   ┆ 4.21                ┆ 6                         │\n",
       "│ noticia ┆ 4.20                ┆ 13                        │\n",
       "│ texto   ┆ 2.20                ┆ 2                         │\n",
       "│ mas     ┆ 2.20                ┆ 2                         │\n",
       "└─────────┴─────────────────────┴───────────────────────────┘"
      ]
     },
     "metadata": {},
     "output_type": "display_data"
    },
    {
     "name": "stdout",
     "output_type": "stream",
     "text": [
      "\n",
      "## Tema 5\n"
     ]
    },
    {
     "data": {
      "text/html": [
       "<div><style>\n",
       ".dataframe > thead > tr,\n",
       ".dataframe > tbody > tr {\n",
       "  text-align: right;\n",
       "  white-space: pre-wrap;\n",
       "}\n",
       "</style>\n",
       "<small>shape: (5, 3)</small><table border=\"1\" class=\"dataframe\"><thead><tr><th>Palabra</th><th>Importancia en Tema</th><th>Frecuencia Total (Corpus)</th></tr><tr><td>str</td><td>str</td><td>i64</td></tr></thead><tbody><tr><td>&quot;falsa&quot;</td><td>&quot;3.11&quot;</td><td>3</td></tr><tr><td>&quot;fuente&quot;</td><td>&quot;2.21&quot;</td><td>4</td></tr><tr><td>&quot;redacción&quot;</td><td>&quot;2.20&quot;</td><td>3</td></tr><tr><td>&quot;autor&quot;</td><td>&quot;2.20&quot;</td><td>3</td></tr><tr><td>&quot;pensé&quot;</td><td>&quot;2.20&quot;</td><td>3</td></tr></tbody></table></div>"
      ],
      "text/plain": [
       "shape: (5, 3)\n",
       "┌───────────┬─────────────────────┬───────────────────────────┐\n",
       "│ Palabra   ┆ Importancia en Tema ┆ Frecuencia Total (Corpus) │\n",
       "│ ---       ┆ ---                 ┆ ---                       │\n",
       "│ str       ┆ str                 ┆ i64                       │\n",
       "╞═══════════╪═════════════════════╪═══════════════════════════╡\n",
       "│ falsa     ┆ 3.11                ┆ 3                         │\n",
       "│ fuente    ┆ 2.21                ┆ 4                         │\n",
       "│ redacción ┆ 2.20                ┆ 3                         │\n",
       "│ autor     ┆ 2.20                ┆ 3                         │\n",
       "│ pensé     ┆ 2.20                ┆ 3                         │\n",
       "└───────────┴─────────────────────┴───────────────────────────┘"
      ]
     },
     "metadata": {},
     "output_type": "display_data"
    },
    {
     "name": "stdout",
     "output_type": "stream",
     "text": [
      "Pregunta: La noticia 5 es Falsa y esta generada por Inteligencia Artificial, ¿Qué tan verídica te pareció y por qué?\n",
      "\n",
      "Tema 1:\n",
      "falsa, ia, ve, humano, identificar\n",
      "\n",
      "Tema 2:\n",
      "falsa, veridica, imagen, twitter, falso\n",
      "\n",
      "Tema 3:\n",
      "verídica, usuario, creí, pensaba, publicación\n",
      "\n",
      "Tema 4:\n",
      "noticia, opinión, información, ve, verídica\n",
      "\n",
      "Tema 5:\n",
      "opinión, persona, falsa, odio, pareció\n",
      "\n",
      "## Tema 1\n"
     ]
    },
    {
     "data": {
      "text/html": [
       "<div><style>\n",
       ".dataframe > thead > tr,\n",
       ".dataframe > tbody > tr {\n",
       "  text-align: right;\n",
       "  white-space: pre-wrap;\n",
       "}\n",
       "</style>\n",
       "<small>shape: (5, 3)</small><table border=\"1\" class=\"dataframe\"><thead><tr><th>Palabra</th><th>Importancia en Tema</th><th>Frecuencia Total (Corpus)</th></tr><tr><td>str</td><td>str</td><td>i64</td></tr></thead><tbody><tr><td>&quot;falsa&quot;</td><td>&quot;8.21&quot;</td><td>20</td></tr><tr><td>&quot;ia&quot;</td><td>&quot;6.20&quot;</td><td>6</td></tr><tr><td>&quot;ve&quot;</td><td>&quot;2.20&quot;</td><td>5</td></tr><tr><td>&quot;humano&quot;</td><td>&quot;2.20&quot;</td><td>4</td></tr><tr><td>&quot;identificar&quot;</td><td>&quot;2.20&quot;</td><td>2</td></tr></tbody></table></div>"
      ],
      "text/plain": [
       "shape: (5, 3)\n",
       "┌─────────────┬─────────────────────┬───────────────────────────┐\n",
       "│ Palabra     ┆ Importancia en Tema ┆ Frecuencia Total (Corpus) │\n",
       "│ ---         ┆ ---                 ┆ ---                       │\n",
       "│ str         ┆ str                 ┆ i64                       │\n",
       "╞═════════════╪═════════════════════╪═══════════════════════════╡\n",
       "│ falsa       ┆ 8.21                ┆ 20                        │\n",
       "│ ia          ┆ 6.20                ┆ 6                         │\n",
       "│ ve          ┆ 2.20                ┆ 5                         │\n",
       "│ humano      ┆ 2.20                ┆ 4                         │\n",
       "│ identificar ┆ 2.20                ┆ 2                         │\n",
       "└─────────────┴─────────────────────┴───────────────────────────┘"
      ]
     },
     "metadata": {},
     "output_type": "display_data"
    },
    {
     "name": "stdout",
     "output_type": "stream",
     "text": [
      "\n",
      "## Tema 2\n"
     ]
    },
    {
     "data": {
      "text/html": [
       "<div><style>\n",
       ".dataframe > thead > tr,\n",
       ".dataframe > tbody > tr {\n",
       "  text-align: right;\n",
       "  white-space: pre-wrap;\n",
       "}\n",
       "</style>\n",
       "<small>shape: (5, 3)</small><table border=\"1\" class=\"dataframe\"><thead><tr><th>Palabra</th><th>Importancia en Tema</th><th>Frecuencia Total (Corpus)</th></tr><tr><td>str</td><td>str</td><td>i64</td></tr></thead><tbody><tr><td>&quot;falsa&quot;</td><td>&quot;4.19&quot;</td><td>20</td></tr><tr><td>&quot;veridica&quot;</td><td>&quot;3.20&quot;</td><td>4</td></tr><tr><td>&quot;imagen&quot;</td><td>&quot;3.20&quot;</td><td>3</td></tr><tr><td>&quot;twitter&quot;</td><td>&quot;2.20&quot;</td><td>4</td></tr><tr><td>&quot;falso&quot;</td><td>&quot;2.20&quot;</td><td>3</td></tr></tbody></table></div>"
      ],
      "text/plain": [
       "shape: (5, 3)\n",
       "┌──────────┬─────────────────────┬───────────────────────────┐\n",
       "│ Palabra  ┆ Importancia en Tema ┆ Frecuencia Total (Corpus) │\n",
       "│ ---      ┆ ---                 ┆ ---                       │\n",
       "│ str      ┆ str                 ┆ i64                       │\n",
       "╞══════════╪═════════════════════╪═══════════════════════════╡\n",
       "│ falsa    ┆ 4.19                ┆ 20                        │\n",
       "│ veridica ┆ 3.20                ┆ 4                         │\n",
       "│ imagen   ┆ 3.20                ┆ 3                         │\n",
       "│ twitter  ┆ 2.20                ┆ 4                         │\n",
       "│ falso    ┆ 2.20                ┆ 3                         │\n",
       "└──────────┴─────────────────────┴───────────────────────────┘"
      ]
     },
     "metadata": {},
     "output_type": "display_data"
    },
    {
     "name": "stdout",
     "output_type": "stream",
     "text": [
      "\n",
      "## Tema 3\n"
     ]
    },
    {
     "data": {
      "text/html": [
       "<div><style>\n",
       ".dataframe > thead > tr,\n",
       ".dataframe > tbody > tr {\n",
       "  text-align: right;\n",
       "  white-space: pre-wrap;\n",
       "}\n",
       "</style>\n",
       "<small>shape: (5, 3)</small><table border=\"1\" class=\"dataframe\"><thead><tr><th>Palabra</th><th>Importancia en Tema</th><th>Frecuencia Total (Corpus)</th></tr><tr><td>str</td><td>str</td><td>i64</td></tr></thead><tbody><tr><td>&quot;verídica&quot;</td><td>&quot;2.21&quot;</td><td>8</td></tr><tr><td>&quot;usuario&quot;</td><td>&quot;2.20&quot;</td><td>3</td></tr><tr><td>&quot;creí&quot;</td><td>&quot;1.20&quot;</td><td>2</td></tr><tr><td>&quot;pensaba&quot;</td><td>&quot;1.20&quot;</td><td>2</td></tr><tr><td>&quot;publicación&quot;</td><td>&quot;1.20&quot;</td><td>2</td></tr></tbody></table></div>"
      ],
      "text/plain": [
       "shape: (5, 3)\n",
       "┌─────────────┬─────────────────────┬───────────────────────────┐\n",
       "│ Palabra     ┆ Importancia en Tema ┆ Frecuencia Total (Corpus) │\n",
       "│ ---         ┆ ---                 ┆ ---                       │\n",
       "│ str         ┆ str                 ┆ i64                       │\n",
       "╞═════════════╪═════════════════════╪═══════════════════════════╡\n",
       "│ verídica    ┆ 2.21                ┆ 8                         │\n",
       "│ usuario     ┆ 2.20                ┆ 3                         │\n",
       "│ creí        ┆ 1.20                ┆ 2                         │\n",
       "│ pensaba     ┆ 1.20                ┆ 2                         │\n",
       "│ publicación ┆ 1.20                ┆ 2                         │\n",
       "└─────────────┴─────────────────────┴───────────────────────────┘"
      ]
     },
     "metadata": {},
     "output_type": "display_data"
    },
    {
     "name": "stdout",
     "output_type": "stream",
     "text": [
      "\n",
      "## Tema 4\n"
     ]
    },
    {
     "data": {
      "text/html": [
       "<div><style>\n",
       ".dataframe > thead > tr,\n",
       ".dataframe > tbody > tr {\n",
       "  text-align: right;\n",
       "  white-space: pre-wrap;\n",
       "}\n",
       "</style>\n",
       "<small>shape: (5, 3)</small><table border=\"1\" class=\"dataframe\"><thead><tr><th>Palabra</th><th>Importancia en Tema</th><th>Frecuencia Total (Corpus)</th></tr><tr><td>str</td><td>str</td><td>i64</td></tr></thead><tbody><tr><td>&quot;noticia&quot;</td><td>&quot;3.21&quot;</td><td>6</td></tr><tr><td>&quot;opinión&quot;</td><td>&quot;3.20&quot;</td><td>10</td></tr><tr><td>&quot;información&quot;</td><td>&quot;3.20&quot;</td><td>3</td></tr><tr><td>&quot;ve&quot;</td><td>&quot;3.20&quot;</td><td>5</td></tr><tr><td>&quot;verídica&quot;</td><td>&quot;3.20&quot;</td><td>8</td></tr></tbody></table></div>"
      ],
      "text/plain": [
       "shape: (5, 3)\n",
       "┌─────────────┬─────────────────────┬───────────────────────────┐\n",
       "│ Palabra     ┆ Importancia en Tema ┆ Frecuencia Total (Corpus) │\n",
       "│ ---         ┆ ---                 ┆ ---                       │\n",
       "│ str         ┆ str                 ┆ i64                       │\n",
       "╞═════════════╪═════════════════════╪═══════════════════════════╡\n",
       "│ noticia     ┆ 3.21                ┆ 6                         │\n",
       "│ opinión     ┆ 3.20                ┆ 10                        │\n",
       "│ información ┆ 3.20                ┆ 3                         │\n",
       "│ ve          ┆ 3.20                ┆ 5                         │\n",
       "│ verídica    ┆ 3.20                ┆ 8                         │\n",
       "└─────────────┴─────────────────────┴───────────────────────────┘"
      ]
     },
     "metadata": {},
     "output_type": "display_data"
    },
    {
     "name": "stdout",
     "output_type": "stream",
     "text": [
      "\n",
      "## Tema 5\n"
     ]
    },
    {
     "data": {
      "text/html": [
       "<div><style>\n",
       ".dataframe > thead > tr,\n",
       ".dataframe > tbody > tr {\n",
       "  text-align: right;\n",
       "  white-space: pre-wrap;\n",
       "}\n",
       "</style>\n",
       "<small>shape: (5, 3)</small><table border=\"1\" class=\"dataframe\"><thead><tr><th>Palabra</th><th>Importancia en Tema</th><th>Frecuencia Total (Corpus)</th></tr><tr><td>str</td><td>str</td><td>i64</td></tr></thead><tbody><tr><td>&quot;opinión&quot;</td><td>&quot;7.20&quot;</td><td>10</td></tr><tr><td>&quot;persona&quot;</td><td>&quot;6.20&quot;</td><td>8</td></tr><tr><td>&quot;falsa&quot;</td><td>&quot;5.20&quot;</td><td>20</td></tr><tr><td>&quot;odio&quot;</td><td>&quot;5.12&quot;</td><td>8</td></tr><tr><td>&quot;pareció&quot;</td><td>&quot;4.20&quot;</td><td>5</td></tr></tbody></table></div>"
      ],
      "text/plain": [
       "shape: (5, 3)\n",
       "┌─────────┬─────────────────────┬───────────────────────────┐\n",
       "│ Palabra ┆ Importancia en Tema ┆ Frecuencia Total (Corpus) │\n",
       "│ ---     ┆ ---                 ┆ ---                       │\n",
       "│ str     ┆ str                 ┆ i64                       │\n",
       "╞═════════╪═════════════════════╪═══════════════════════════╡\n",
       "│ opinión ┆ 7.20                ┆ 10                        │\n",
       "│ persona ┆ 6.20                ┆ 8                         │\n",
       "│ falsa   ┆ 5.20                ┆ 20                        │\n",
       "│ odio    ┆ 5.12                ┆ 8                         │\n",
       "│ pareció ┆ 4.20                ┆ 5                         │\n",
       "└─────────┴─────────────────────┴───────────────────────────┘"
      ]
     },
     "metadata": {},
     "output_type": "display_data"
    }
   ],
   "source": [
    "def elect_questions_per_post_topics(df,  idx):\n",
    "    \"\"\"\n",
    "    Dada una pregunta, devuelve las 5 temáticas más relevantes\n",
    "    \"\"\"\n",
    "    result = df[idx_questions_per_post_plain_text[idx]]\n",
    "\n",
    "    test_docs = [doc if doc is not None else \"\" for doc in result.to_list()]\n",
    "\n",
    "    vectorizer = CountVectorizer(max_df=0.95, min_df=2, stop_words=stopwords)\n",
    "    X = vectorizer.fit_transform(test_docs)\n",
    "\n",
    "    lda = LatentDirichletAllocation(n_components=5, random_state=0)\n",
    "    lda.fit(X)\n",
    "\n",
    "    print(\"Pregunta:\", idx_questions_per_post_plain_text[idx])\n",
    "\n",
    "    def mostrar_temas(model, vectorizer, top_n=5):\n",
    "        words = vectorizer.get_feature_names_out()\n",
    "        for idx, topic in enumerate(model.components_):\n",
    "            print(f\"\\nTema {idx + 1}:\")\n",
    "            print(\", \".join([words[i] for i in topic.argsort()[:-top_n - 1:-1]]))\n",
    "\n",
    "    mostrar_temas(lda, vectorizer)\n",
    "    topic_idx = idx\n",
    "    words = vectorizer.get_feature_names_out()\n",
    "    topic = lda.components_[topic_idx]\n",
    "    freqs = {words[i]: topic[i] for i in topic.argsort()[:-30 - 1:-1]}\n",
    "\n",
    "    total_word_counts = X.toarray().sum(axis=0)\n",
    "    word_freq_dict = dict(zip(words, total_word_counts))\n",
    "    for topic_idx, topic_weights in enumerate(lda.components_):\n",
    "        print(f\"\\n## Tema {topic_idx + 1}\")\n",
    "        \n",
    "        top_word_indices = topic_weights.argsort()[:-5 - 1:-1]\n",
    "        \n",
    "        topic_data = []\n",
    "        for word_idx in top_word_indices:\n",
    "            word = words[word_idx]\n",
    "            weight = topic_weights[word_idx]\n",
    "            total_freq = word_freq_dict[word]\n",
    "            topic_data.append({\n",
    "                \"Palabra\": word,\n",
    "                \"Importancia en Tema\": f\"{weight:.2f}\",\n",
    "                \"Frecuencia Total (Corpus)\": int(total_freq)\n",
    "            })\n",
    "            #display(topic_data[-1])\n",
    "\n",
    "        topic_df = pl.DataFrame(topic_data)\n",
    "        display(topic_df)\n",
    "\n",
    "        os.makedirs(\"topics\", exist_ok=True)\n",
    "        topic_df.write_csv(f\"topics/post_{5-idx}_tema_{topic_idx + 1}.csv\")\n",
    "\n",
    "\n",
    "for idx in range(4, -1, -1):\n",
    "    elect_questions_per_post_topics(df, idx)"
   ]
  }
 ],
 "metadata": {
  "kernelspec": {
   "display_name": "Python 3",
   "language": "python",
   "name": "python3"
  },
  "language_info": {
   "codemirror_mode": {
    "name": "ipython",
    "version": 3
   },
   "file_extension": ".py",
   "mimetype": "text/x-python",
   "name": "python",
   "nbconvert_exporter": "python",
   "pygments_lexer": "ipython3",
   "version": "3.12.10"
  }
 },
 "nbformat": 4,
 "nbformat_minor": 5
}
